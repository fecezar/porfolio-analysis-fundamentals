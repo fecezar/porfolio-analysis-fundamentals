{
 "cells": [
  {
   "cell_type": "code",
   "execution_count": 47,
   "metadata": {
    "ExecuteTime": {
     "end_time": "2021-01-29T12:37:48.098645Z",
     "start_time": "2021-01-29T12:37:48.075299Z"
    }
   },
   "outputs": [],
   "source": [
    "class Tap:\n",
    "    pass\n",
    "\n",
    "class Jar:\n",
    "    def __init__(self):\n",
    "        self.size = 100\n",
    "        self.content = 0       \n",
    "        \n",
    "    def fill_up(self):\n",
    "        self.content = self.size\n",
    "\n",
    "    def fill_cup(self, cup):\n",
    "        to_fill = cup.size - cup.content\n",
    "        if to_fill == 0:\n",
    "            print('cup already full')\n",
    "        elif self.content >= to_fill:\n",
    "            self.content -= to_fill\n",
    "            cup.content += to_fill\n",
    "        elif self.content < to_fill:\n",
    "            cup.content += self.content  \n",
    "            self.content = 0\n",
    "                      \n",
    "class Cup:\n",
    "    \n",
    "    def __init__(self):\n",
    "        self.content = 0\n",
    "        self.size= 30\n",
    "        self.filled = bool(self.content == self.size)\n",
    "    \n",
    "    def fill_up(self, jar):\n",
    "        jar.fill_cup(self)\n",
    "        "
   ]
  },
  {
   "cell_type": "code",
   "execution_count": 48,
   "metadata": {
    "ExecuteTime": {
     "end_time": "2021-01-29T12:37:48.306410Z",
     "start_time": "2021-01-29T12:37:48.283517Z"
    }
   },
   "outputs": [
    {
     "name": "stdout",
     "output_type": "stream",
     "text": [
      "new_jar.content 0\n",
      "new_jar.size 100\n",
      "jar filled\n",
      "new_jar.content 100\n"
     ]
    }
   ],
   "source": [
    "new_jar = Jar()\n",
    "print('new_jar.content', new_jar.content)\n",
    "print('new_jar.size', new_jar.size)\n",
    "new_jar.fill_up()\n",
    "print('jar filled')\n",
    "print('new_jar.content', new_jar.content)"
   ]
  },
  {
   "cell_type": "code",
   "execution_count": 49,
   "metadata": {
    "ExecuteTime": {
     "end_time": "2021-01-29T12:37:48.499894Z",
     "start_time": "2021-01-29T12:37:48.491734Z"
    }
   },
   "outputs": [
    {
     "name": "stdout",
     "output_type": "stream",
     "text": [
      "new_cup.content 0\n",
      "new_jar.content 70\n",
      "new_cup.content 30\n"
     ]
    }
   ],
   "source": [
    "new_cup = Cup()\n",
    "print('new_cup.content', new_cup.content)\n",
    "new_cup.fill_up(new_jar)\n",
    "print('new_jar.content', new_jar.content)\n",
    "print('new_cup.content', new_cup.content)"
   ]
  },
  {
   "cell_type": "code",
   "execution_count": 50,
   "metadata": {
    "ExecuteTime": {
     "end_time": "2021-01-29T12:37:48.665172Z",
     "start_time": "2021-01-29T12:37:48.657151Z"
    }
   },
   "outputs": [
    {
     "name": "stdout",
     "output_type": "stream",
     "text": [
      "new_cup.content 30\n",
      "cup already full\n",
      "new_jar.content 70\n",
      "new_cup.content 30\n"
     ]
    }
   ],
   "source": [
    "print('new_cup.content', new_cup.content)\n",
    "new_cup.fill_up(new_jar)\n",
    "print('new_jar.content', new_jar.content)\n",
    "print('new_cup.content', new_cup.content)"
   ]
  },
  {
   "cell_type": "code",
   "execution_count": 51,
   "metadata": {
    "ExecuteTime": {
     "end_time": "2021-01-29T12:37:48.873813Z",
     "start_time": "2021-01-29T12:37:48.850453Z"
    }
   },
   "outputs": [
    {
     "name": "stdout",
     "output_type": "stream",
     "text": [
      "second_cup.content 0\n",
      "new_jar.content 40\n",
      "second_cup.content 30\n"
     ]
    }
   ],
   "source": [
    "second_cup = Cup()\n",
    "print('second_cup.content', second_cup.content)\n",
    "second_cup.fill_up(new_jar)\n",
    "print('new_jar.content', new_jar.content)\n",
    "print('second_cup.content', second_cup.content)"
   ]
  },
  {
   "cell_type": "code",
   "execution_count": 52,
   "metadata": {
    "ExecuteTime": {
     "end_time": "2021-01-29T12:37:49.054235Z",
     "start_time": "2021-01-29T12:37:49.033333Z"
    }
   },
   "outputs": [
    {
     "name": "stdout",
     "output_type": "stream",
     "text": [
      "third_cup.content 0\n",
      "new_jar.content 10\n",
      "third_cup.content 30\n"
     ]
    }
   ],
   "source": [
    "third_cup = Cup()\n",
    "print('third_cup.content', third_cup.content)\n",
    "third_cup.fill_up(new_jar)\n",
    "print('new_jar.content', new_jar.content)\n",
    "print('third_cup.content', third_cup.content)"
   ]
  },
  {
   "cell_type": "code",
   "execution_count": 53,
   "metadata": {
    "ExecuteTime": {
     "end_time": "2021-01-29T12:37:49.280335Z",
     "start_time": "2021-01-29T12:37:49.255715Z"
    }
   },
   "outputs": [
    {
     "name": "stdout",
     "output_type": "stream",
     "text": [
      "x_jar content: 10\n",
      "x_cup content: 10\n",
      "x_cup filled\n",
      "x_jar content: 0\n",
      "x_cup content: 10\n"
     ]
    }
   ],
   "source": [
    "x_jar = Jar()\n",
    "x_jar.content = 10\n",
    "print('x_jar content:', x_jar.content)\n",
    "print('x_cup content:', x_cup.content)\n",
    "x_cup = Cup()\n",
    "x_cup.fill_up(x_jar)\n",
    "print('x_cup filled')\n",
    "print('x_jar content:', x_jar.content)\n",
    "print('x_cup content:', x_cup.content)"
   ]
  },
  {
   "cell_type": "code",
   "execution_count": null,
   "metadata": {},
   "outputs": [],
   "source": []
  },
  {
   "cell_type": "code",
   "execution_count": null,
   "metadata": {},
   "outputs": [],
   "source": []
  },
  {
   "cell_type": "code",
   "execution_count": null,
   "metadata": {},
   "outputs": [],
   "source": []
  }
 ],
 "metadata": {
  "kernelspec": {
   "display_name": "Python [conda env:learn-env] *",
   "language": "python",
   "name": "conda-env-learn-env-py"
  },
  "language_info": {
   "codemirror_mode": {
    "name": "ipython",
    "version": 3
   },
   "file_extension": ".py",
   "mimetype": "text/x-python",
   "name": "python",
   "nbconvert_exporter": "python",
   "pygments_lexer": "ipython3",
   "version": "3.6.9"
  },
  "toc": {
   "base_numbering": 1,
   "nav_menu": {},
   "number_sections": true,
   "sideBar": true,
   "skip_h1_title": false,
   "title_cell": "Table of Contents",
   "title_sidebar": "Contents",
   "toc_cell": false,
   "toc_position": {},
   "toc_section_display": true,
   "toc_window_display": false
  },
  "varInspector": {
   "cols": {
    "lenName": 16,
    "lenType": 16,
    "lenVar": 40
   },
   "kernels_config": {
    "python": {
     "delete_cmd_postfix": "",
     "delete_cmd_prefix": "del ",
     "library": "var_list.py",
     "varRefreshCmd": "print(var_dic_list())"
    },
    "r": {
     "delete_cmd_postfix": ") ",
     "delete_cmd_prefix": "rm(",
     "library": "var_list.r",
     "varRefreshCmd": "cat(var_dic_list()) "
    }
   },
   "types_to_exclude": [
    "module",
    "function",
    "builtin_function_or_method",
    "instance",
    "_Feature"
   ],
   "window_display": false
  }
 },
 "nbformat": 4,
 "nbformat_minor": 2
}
